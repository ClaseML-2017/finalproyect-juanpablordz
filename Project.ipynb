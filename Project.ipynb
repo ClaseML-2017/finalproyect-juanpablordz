{
 "cells": [
  {
   "cell_type": "code",
   "execution_count": 1,
   "metadata": {},
   "outputs": [
    {
     "name": "stderr",
     "output_type": "stream",
     "text": [
      "/Users/normalazo/Desktop/env1/pythonEnv1/lib/python2.7/site-packages/sklearn/cross_validation.py:41: DeprecationWarning: This module was deprecated in version 0.18 in favor of the model_selection module into which all the refactored classes and functions are moved. Also note that the interface of the new CV iterators are different from that of this module. This module will be removed in 0.20.\n",
      "  \"This module will be removed in 0.20.\", DeprecationWarning)\n"
     ]
    }
   ],
   "source": [
    "import pandas as pd\n",
    "import numpy as np \n",
    "import sklearn as sk\n",
    "from sklearn import tree\n",
    "from sklearn import datasets\n",
    "from sklearn.cross_validation import train_test_split \n",
    "from sklearn.metrics import confusion_matrix\n",
    "import matplotlib.pyplot as plt\n",
    "from sklearn.metrics import accuracy_score\n",
    "from sklearn.metrics import roc_auc_score, auc,precision_recall_curve\n",
    "from sklearn.metrics import classification_report\n",
    "from sklearn.metrics import roc_curve\n",
    "from sklearn.metrics import roc_curve, auc\n",
    "from sklearn.naive_bayes import GaussianNB\n",
    "\n",
    "\n",
    "from sklearn import preprocessing\n",
    "from random import random,randint,seed,sample \n",
    "from sklearn.preprocessing import StandardScaler\n",
    "import random as rn\n",
    "from sklearn.ensemble import AdaBoostClassifier, RandomForestClassifier\n",
    "\n",
    "import tensorflow as tf\n",
    "import sklearn.svm as svm"
   ]
  },
  {
   "cell_type": "code",
   "execution_count": 2,
   "metadata": {
    "collapsed": true
   },
   "outputs": [],
   "source": [
    "np.random.seed(9876)"
   ]
  },
  {
   "cell_type": "code",
   "execution_count": 3,
   "metadata": {
    "collapsed": true
   },
   "outputs": [],
   "source": [
    "#Reading Data\n",
    "df=pd.read_csv('/Users/normalazo/Desktop/env1/Final_Proyect/ML_Final_Proyect/sd_limpio_f.csv')\n",
    "df.head()\n",
    "test_size = .20\n",
    "validation_size = .15"
   ]
  },
  {
   "cell_type": "code",
   "execution_count": 4,
   "metadata": {},
   "outputs": [
    {
     "data": {
      "text/html": [
       "<div>\n",
       "<style>\n",
       "    .dataframe thead tr:only-child th {\n",
       "        text-align: right;\n",
       "    }\n",
       "\n",
       "    .dataframe thead th {\n",
       "        text-align: left;\n",
       "    }\n",
       "\n",
       "    .dataframe tbody tr th {\n",
       "        vertical-align: top;\n",
       "    }\n",
       "</style>\n",
       "<table border=\"1\" class=\"dataframe\">\n",
       "  <thead>\n",
       "    <tr style=\"text-align: right;\">\n",
       "      <th></th>\n",
       "      <th>match</th>\n",
       "      <th>age_diff</th>\n",
       "      <th>p_field_cd</th>\n",
       "      <th>p_race</th>\n",
       "      <th>p_imprace</th>\n",
       "      <th>p_imprelig</th>\n",
       "      <th>p_from</th>\n",
       "      <th>p_zipcode</th>\n",
       "      <th>p_income</th>\n",
       "      <th>p_goal</th>\n",
       "      <th>...</th>\n",
       "      <th>p_clubbing</th>\n",
       "      <th>p_reading</th>\n",
       "      <th>p_tv</th>\n",
       "      <th>p_theater</th>\n",
       "      <th>p_movies</th>\n",
       "      <th>p_concerts</th>\n",
       "      <th>p_music</th>\n",
       "      <th>p_shopping</th>\n",
       "      <th>p_yoga</th>\n",
       "      <th>p_exphappy</th>\n",
       "    </tr>\n",
       "  </thead>\n",
       "  <tbody>\n",
       "    <tr>\n",
       "      <th>count</th>\n",
       "      <td>4184.000000</td>\n",
       "      <td>4184.000000</td>\n",
       "      <td>4184.000000</td>\n",
       "      <td>4184.000000</td>\n",
       "      <td>4184.000000</td>\n",
       "      <td>4184.000000</td>\n",
       "      <td>4184.000000</td>\n",
       "      <td>4184.000000</td>\n",
       "      <td>4184.000000</td>\n",
       "      <td>4184.000000</td>\n",
       "      <td>...</td>\n",
       "      <td>4184.000000</td>\n",
       "      <td>4184.000000</td>\n",
       "      <td>4184.000000</td>\n",
       "      <td>4184.000000</td>\n",
       "      <td>4184.000000</td>\n",
       "      <td>4184.000000</td>\n",
       "      <td>4184.000000</td>\n",
       "      <td>4184.00000</td>\n",
       "      <td>4184.000000</td>\n",
       "      <td>4184.000000</td>\n",
       "    </tr>\n",
       "    <tr>\n",
       "      <th>mean</th>\n",
       "      <td>0.164914</td>\n",
       "      <td>4.168260</td>\n",
       "      <td>0.114962</td>\n",
       "      <td>0.396272</td>\n",
       "      <td>3.104685</td>\n",
       "      <td>3.117352</td>\n",
       "      <td>0.010755</td>\n",
       "      <td>0.044216</td>\n",
       "      <td>11560.111437</td>\n",
       "      <td>0.304493</td>\n",
       "      <td>...</td>\n",
       "      <td>2.811902</td>\n",
       "      <td>2.266252</td>\n",
       "      <td>2.998088</td>\n",
       "      <td>2.760516</td>\n",
       "      <td>1.972753</td>\n",
       "      <td>2.513623</td>\n",
       "      <td>2.094168</td>\n",
       "      <td>3.25000</td>\n",
       "      <td>3.211281</td>\n",
       "      <td>2.039197</td>\n",
       "    </tr>\n",
       "    <tr>\n",
       "      <th>std</th>\n",
       "      <td>0.371147</td>\n",
       "      <td>4.566389</td>\n",
       "      <td>0.319014</td>\n",
       "      <td>0.489181</td>\n",
       "      <td>2.510992</td>\n",
       "      <td>2.542932</td>\n",
       "      <td>0.103161</td>\n",
       "      <td>0.205599</td>\n",
       "      <td>12707.395375</td>\n",
       "      <td>0.460248</td>\n",
       "      <td>...</td>\n",
       "      <td>2.162918</td>\n",
       "      <td>1.985086</td>\n",
       "      <td>2.165846</td>\n",
       "      <td>2.045972</td>\n",
       "      <td>1.802520</td>\n",
       "      <td>1.990488</td>\n",
       "      <td>1.779562</td>\n",
       "      <td>2.27851</td>\n",
       "      <td>2.347181</td>\n",
       "      <td>1.713496</td>\n",
       "    </tr>\n",
       "    <tr>\n",
       "      <th>min</th>\n",
       "      <td>0.000000</td>\n",
       "      <td>0.000000</td>\n",
       "      <td>0.000000</td>\n",
       "      <td>0.000000</td>\n",
       "      <td>0.000000</td>\n",
       "      <td>0.000000</td>\n",
       "      <td>0.000000</td>\n",
       "      <td>0.000000</td>\n",
       "      <td>0.000000</td>\n",
       "      <td>0.000000</td>\n",
       "      <td>...</td>\n",
       "      <td>0.000000</td>\n",
       "      <td>0.000000</td>\n",
       "      <td>0.000000</td>\n",
       "      <td>0.000000</td>\n",
       "      <td>0.000000</td>\n",
       "      <td>0.000000</td>\n",
       "      <td>0.000000</td>\n",
       "      <td>0.00000</td>\n",
       "      <td>0.000000</td>\n",
       "      <td>0.000000</td>\n",
       "    </tr>\n",
       "    <tr>\n",
       "      <th>25%</th>\n",
       "      <td>0.000000</td>\n",
       "      <td>1.000000</td>\n",
       "      <td>0.000000</td>\n",
       "      <td>0.000000</td>\n",
       "      <td>1.000000</td>\n",
       "      <td>1.000000</td>\n",
       "      <td>0.000000</td>\n",
       "      <td>0.000000</td>\n",
       "      <td>667.250000</td>\n",
       "      <td>0.000000</td>\n",
       "      <td>...</td>\n",
       "      <td>1.000000</td>\n",
       "      <td>1.000000</td>\n",
       "      <td>1.000000</td>\n",
       "      <td>1.000000</td>\n",
       "      <td>1.000000</td>\n",
       "      <td>1.000000</td>\n",
       "      <td>1.000000</td>\n",
       "      <td>1.00000</td>\n",
       "      <td>1.000000</td>\n",
       "      <td>1.000000</td>\n",
       "    </tr>\n",
       "    <tr>\n",
       "      <th>50%</th>\n",
       "      <td>0.000000</td>\n",
       "      <td>3.000000</td>\n",
       "      <td>0.000000</td>\n",
       "      <td>0.000000</td>\n",
       "      <td>3.000000</td>\n",
       "      <td>3.000000</td>\n",
       "      <td>0.000000</td>\n",
       "      <td>0.000000</td>\n",
       "      <td>7928.500000</td>\n",
       "      <td>0.000000</td>\n",
       "      <td>...</td>\n",
       "      <td>2.000000</td>\n",
       "      <td>2.000000</td>\n",
       "      <td>3.000000</td>\n",
       "      <td>2.000000</td>\n",
       "      <td>2.000000</td>\n",
       "      <td>2.000000</td>\n",
       "      <td>2.000000</td>\n",
       "      <td>3.00000</td>\n",
       "      <td>3.000000</td>\n",
       "      <td>2.000000</td>\n",
       "    </tr>\n",
       "    <tr>\n",
       "      <th>75%</th>\n",
       "      <td>0.000000</td>\n",
       "      <td>5.000000</td>\n",
       "      <td>0.000000</td>\n",
       "      <td>1.000000</td>\n",
       "      <td>5.000000</td>\n",
       "      <td>5.000000</td>\n",
       "      <td>0.000000</td>\n",
       "      <td>0.000000</td>\n",
       "      <td>18109.393550</td>\n",
       "      <td>1.000000</td>\n",
       "      <td>...</td>\n",
       "      <td>4.000000</td>\n",
       "      <td>3.000000</td>\n",
       "      <td>4.000000</td>\n",
       "      <td>4.000000</td>\n",
       "      <td>3.000000</td>\n",
       "      <td>4.000000</td>\n",
       "      <td>3.000000</td>\n",
       "      <td>5.00000</td>\n",
       "      <td>5.000000</td>\n",
       "      <td>3.000000</td>\n",
       "    </tr>\n",
       "    <tr>\n",
       "      <th>max</th>\n",
       "      <td>1.000000</td>\n",
       "      <td>37.000000</td>\n",
       "      <td>1.000000</td>\n",
       "      <td>1.000000</td>\n",
       "      <td>10.000000</td>\n",
       "      <td>10.000000</td>\n",
       "      <td>1.000000</td>\n",
       "      <td>1.000000</td>\n",
       "      <td>85670.000000</td>\n",
       "      <td>1.000000</td>\n",
       "      <td>...</td>\n",
       "      <td>10.000000</td>\n",
       "      <td>11.000000</td>\n",
       "      <td>9.000000</td>\n",
       "      <td>10.000000</td>\n",
       "      <td>10.000000</td>\n",
       "      <td>10.000000</td>\n",
       "      <td>10.000000</td>\n",
       "      <td>10.00000</td>\n",
       "      <td>10.000000</td>\n",
       "      <td>10.000000</td>\n",
       "    </tr>\n",
       "  </tbody>\n",
       "</table>\n",
       "<p>8 rows × 32 columns</p>\n",
       "</div>"
      ],
      "text/plain": [
       "             match     age_diff   p_field_cd       p_race    p_imprace  \\\n",
       "count  4184.000000  4184.000000  4184.000000  4184.000000  4184.000000   \n",
       "mean      0.164914     4.168260     0.114962     0.396272     3.104685   \n",
       "std       0.371147     4.566389     0.319014     0.489181     2.510992   \n",
       "min       0.000000     0.000000     0.000000     0.000000     0.000000   \n",
       "25%       0.000000     1.000000     0.000000     0.000000     1.000000   \n",
       "50%       0.000000     3.000000     0.000000     0.000000     3.000000   \n",
       "75%       0.000000     5.000000     0.000000     1.000000     5.000000   \n",
       "max       1.000000    37.000000     1.000000     1.000000    10.000000   \n",
       "\n",
       "        p_imprelig       p_from    p_zipcode      p_income       p_goal  \\\n",
       "count  4184.000000  4184.000000  4184.000000   4184.000000  4184.000000   \n",
       "mean      3.117352     0.010755     0.044216  11560.111437     0.304493   \n",
       "std       2.542932     0.103161     0.205599  12707.395375     0.460248   \n",
       "min       0.000000     0.000000     0.000000      0.000000     0.000000   \n",
       "25%       1.000000     0.000000     0.000000    667.250000     0.000000   \n",
       "50%       3.000000     0.000000     0.000000   7928.500000     0.000000   \n",
       "75%       5.000000     0.000000     0.000000  18109.393550     1.000000   \n",
       "max      10.000000     1.000000     1.000000  85670.000000     1.000000   \n",
       "\n",
       "          ...        p_clubbing    p_reading         p_tv    p_theater  \\\n",
       "count     ...       4184.000000  4184.000000  4184.000000  4184.000000   \n",
       "mean      ...          2.811902     2.266252     2.998088     2.760516   \n",
       "std       ...          2.162918     1.985086     2.165846     2.045972   \n",
       "min       ...          0.000000     0.000000     0.000000     0.000000   \n",
       "25%       ...          1.000000     1.000000     1.000000     1.000000   \n",
       "50%       ...          2.000000     2.000000     3.000000     2.000000   \n",
       "75%       ...          4.000000     3.000000     4.000000     4.000000   \n",
       "max       ...         10.000000    11.000000     9.000000    10.000000   \n",
       "\n",
       "          p_movies   p_concerts      p_music  p_shopping       p_yoga  \\\n",
       "count  4184.000000  4184.000000  4184.000000  4184.00000  4184.000000   \n",
       "mean      1.972753     2.513623     2.094168     3.25000     3.211281   \n",
       "std       1.802520     1.990488     1.779562     2.27851     2.347181   \n",
       "min       0.000000     0.000000     0.000000     0.00000     0.000000   \n",
       "25%       1.000000     1.000000     1.000000     1.00000     1.000000   \n",
       "50%       2.000000     2.000000     2.000000     3.00000     3.000000   \n",
       "75%       3.000000     4.000000     3.000000     5.00000     5.000000   \n",
       "max      10.000000    10.000000    10.000000    10.00000    10.000000   \n",
       "\n",
       "        p_exphappy  \n",
       "count  4184.000000  \n",
       "mean      2.039197  \n",
       "std       1.713496  \n",
       "min       0.000000  \n",
       "25%       1.000000  \n",
       "50%       2.000000  \n",
       "75%       3.000000  \n",
       "max      10.000000  \n",
       "\n",
       "[8 rows x 32 columns]"
      ]
     },
     "execution_count": 4,
     "metadata": {},
     "output_type": "execute_result"
    }
   ],
   "source": [
    "df.describe()"
   ]
  },
  {
   "cell_type": "code",
   "execution_count": 5,
   "metadata": {},
   "outputs": [
    {
     "name": "stdout",
     "output_type": "stream",
     "text": [
      "Numero de elementos en set de entrenamiento:  2844\n",
      "Numero de elementos en set de prueba:  837\n",
      "Numero de elementos en set de Validacion:  503\n"
     ]
    }
   ],
   "source": [
    "X=df[list(df.drop(['match'],inplace=False,axis=1))]\n",
    "y=df['match']\n",
    "X_train,X_test,Y_train,Y_test=train_test_split(X,y,test_size=test_size,random_state=6)\n",
    "X_train,X_Validation,Y_train,Y_Validation=train_test_split(X_train,Y_train,test_size=validation_size,random_state=6)\n",
    "\n",
    "\n",
    "print \"Numero de elementos en set de entrenamiento: \" , len(X_train)\n",
    "print \"Numero de elementos en set de prueba: \" , len(X_test)\n",
    "print \"Numero de elementos en set de Validacion: \" , len(X_Validation)"
   ]
  },
  {
   "cell_type": "markdown",
   "metadata": {},
   "source": [
    "# Naive Bayes"
   ]
  },
  {
   "cell_type": "code",
   "execution_count": 6,
   "metadata": {},
   "outputs": [
    {
     "name": "stdout",
     "output_type": "stream",
     "text": [
      "             precision    recall  f1-score   support\n",
      "\n",
      "          0       0.85      0.94      0.89       424\n",
      "          1       0.29      0.14      0.19        79\n",
      "\n",
      "avg / total       0.77      0.81      0.78       503\n",
      "\n",
      "[[397  27]\n",
      " [ 68  11]]\n"
     ]
    }
   ],
   "source": [
    "nb = GaussianNB()\n",
    "nb_clf = nb.fit(X_train, Y_train)\n",
    "prediction = nb_clf.predict(X_Validation)\n",
    "print(classification_report(Y_Validation,prediction))\n",
    "print(confusion_matrix(Y_Validation,prediction))"
   ]
  },
  {
   "cell_type": "markdown",
   "metadata": {},
   "source": [
    "# Entreno un arbol"
   ]
  },
  {
   "cell_type": "code",
   "execution_count": 7,
   "metadata": {},
   "outputs": [
    {
     "name": "stdout",
     "output_type": "stream",
     "text": [
      "             precision    recall  f1-score   support\n",
      "\n",
      "          0       0.84      1.00      0.91       424\n",
      "          1       0.33      0.01      0.02        79\n",
      "\n",
      "avg / total       0.76      0.84      0.77       503\n",
      "\n",
      "[[422   2]\n",
      " [ 78   1]]\n"
     ]
    }
   ],
   "source": [
    "#Entrenamos el un arbol\n",
    "tree_class = tree.DecisionTreeClassifier(min_samples_leaf=2,max_depth=5)\n",
    "tree_class = tree_class.fit(X_train, Y_train)\n",
    "\n",
    "prediction=tree_class.predict(X_Validation)  \n",
    "print(classification_report(Y_Validation,prediction))\n",
    "print(confusion_matrix(Y_Validation,prediction))"
   ]
  },
  {
   "cell_type": "markdown",
   "metadata": {},
   "source": [
    "# RANDOM FOREST\n"
   ]
  },
  {
   "cell_type": "code",
   "execution_count": 8,
   "metadata": {},
   "outputs": [
    {
     "name": "stdout",
     "output_type": "stream",
     "text": [
      "             precision    recall  f1-score   support\n",
      "\n",
      "          0       0.84      1.00      0.91       424\n",
      "          1       0.00      0.00      0.00        79\n",
      "\n",
      "avg / total       0.71      0.84      0.77       503\n",
      "\n",
      "[[424   0]\n",
      " [ 79   0]]\n"
     ]
    },
    {
     "name": "stderr",
     "output_type": "stream",
     "text": [
      "/Users/normalazo/Desktop/env1/pythonEnv1/lib/python2.7/site-packages/sklearn/metrics/classification.py:1135: UndefinedMetricWarning: Precision and F-score are ill-defined and being set to 0.0 in labels with no predicted samples.\n",
      "  'precision', 'predicted', average, warn_for)\n"
     ]
    }
   ],
   "source": [
    "RF=RandomForestClassifier(criterion='gini', min_samples_split=2,n_estimators=1000,  max_depth = 25)\n",
    "RF.fit(X_train,Y_train) \n",
    "prediction=RF.predict(X_Validation)  \n",
    "print(classification_report(Y_Validation,prediction))\n",
    "print(confusion_matrix(Y_Validation,prediction))"
   ]
  },
  {
   "cell_type": "code",
   "execution_count": 9,
   "metadata": {},
   "outputs": [
    {
     "data": {
      "text/plain": [
       "array([ 0.04208053,  0.00892698,  0.01140843,  0.03904711,  0.03817344,\n",
       "        0.00204221,  0.00331097,  0.06391982,  0.01070693,  0.03057436,\n",
       "        0.02425859,  0.04103761,  0.02372883,  0.03892401,  0.03969341,\n",
       "        0.03816452,  0.03199499,  0.03441572,  0.03817279,  0.0386801 ,\n",
       "        0.03868357,  0.03994326,  0.03290424,  0.03753471,  0.04061765,\n",
       "        0.03204843,  0.03665045,  0.03382563,  0.03761019,  0.036517  ,\n",
       "        0.03440352])"
      ]
     },
     "execution_count": 9,
     "metadata": {},
     "output_type": "execute_result"
    }
   ],
   "source": [
    "RF.feature_importances_\n",
    "#tree_class.feature_importances_"
   ]
  },
  {
   "cell_type": "markdown",
   "metadata": {},
   "source": [
    "# Drop columns "
   ]
  },
  {
   "cell_type": "code",
   "execution_count": 10,
   "metadata": {},
   "outputs": [
    {
     "name": "stdout",
     "output_type": "stream",
     "text": [
      "[ 0.          0.          0.          0.          0.01604434  0.          0.\n",
      "  0.13966952  0.          0.          0.06424709  0.          0.09487123\n",
      "  0.03854227  0.04523788  0.          0.02682375  0.05751902  0.13090234\n",
      "  0.          0.          0.06572534  0.          0.06580977  0.08916066\n",
      "  0.          0.06094229  0.06116996  0.          0.          0.04333456]\n",
      "Index([u'match', u'p_income', u'p_go_out', u'p_expnum', u'p_museums', u'p_art',\n",
      "       u'p_clubbing', u'p_tv', u'p_theater', u'p_concerts', u'p_music'],\n",
      "      dtype='object')\n"
     ]
    }
   ],
   "source": [
    "# importancia de cada variable\n",
    "#feature_imp = RF.feature_importances_\n",
    "feature_imp = tree_class.feature_importances_\n",
    "drop = []\n",
    "print(feature_imp)\n",
    "for x in range(0, len(feature_imp)):\n",
    "    if(feature_imp[x] < .05 ): # .3 -> 50%\n",
    "        drop.append(x+1)\n",
    "        \n",
    "#print drop\n",
    "df=df.drop(df.columns[drop], axis=1)\n",
    "print (df.columns[:])"
   ]
  },
  {
   "cell_type": "code",
   "execution_count": 11,
   "metadata": {},
   "outputs": [
    {
     "name": "stdout",
     "output_type": "stream",
     "text": [
      "2844\n",
      "837\n",
      "503\n"
     ]
    }
   ],
   "source": [
    "X=df[list(df.drop(['match'],inplace=False,axis=1))]\n",
    "y=df['match']\n",
    "X_train,X_test,Y_train,Y_test=train_test_split(X,y,test_size=test_size,random_state=6)\n",
    "X_train,X_Validation,Y_train,Y_Validation=train_test_split(X_train,Y_train,test_size=validation_size,random_state=6)\n",
    "print len(X_train)\n",
    "print len(X_test)\n",
    "print len(X_Validation)"
   ]
  },
  {
   "cell_type": "markdown",
   "metadata": {},
   "source": [
    "# Arbol"
   ]
  },
  {
   "cell_type": "code",
   "execution_count": 12,
   "metadata": {},
   "outputs": [
    {
     "name": "stdout",
     "output_type": "stream",
     "text": [
      "             precision    recall  f1-score   support\n",
      "\n",
      "          0       0.84      1.00      0.91       424\n",
      "          1       0.33      0.01      0.02        79\n",
      "\n",
      "avg / total       0.76      0.84      0.77       503\n",
      "\n",
      "[[422   2]\n",
      " [ 78   1]]\n"
     ]
    }
   ],
   "source": [
    "#Entrenamos el un arbol\n",
    "tree_class = tree.DecisionTreeClassifier(min_samples_leaf=2,max_depth=5)\n",
    "tree_class = tree_class.fit(X_train, Y_train)\n",
    "\n",
    "prediction=tree_class.predict(X_Validation)  \n",
    "print(classification_report(Y_Validation,prediction))\n",
    "print(confusion_matrix(Y_Validation,prediction))"
   ]
  },
  {
   "cell_type": "markdown",
   "metadata": {},
   "source": [
    "# NAIVE BAYES"
   ]
  },
  {
   "cell_type": "code",
   "execution_count": 13,
   "metadata": {},
   "outputs": [
    {
     "name": "stdout",
     "output_type": "stream",
     "text": [
      "             precision    recall  f1-score   support\n",
      "\n",
      "          0       0.86      0.96      0.91       424\n",
      "          1       0.40      0.13      0.19        79\n",
      "\n",
      "avg / total       0.78      0.83      0.79       503\n",
      "\n",
      "[[409  15]\n",
      " [ 69  10]]\n"
     ]
    }
   ],
   "source": [
    "\n",
    "nb = GaussianNB()\n",
    "nb_clf = nb.fit(X_train, Y_train)\n",
    "prediction = nb_clf.predict(X_Validation)\n",
    "print(classification_report(Y_Validation,prediction))\n",
    "confusion = confusion_matrix(Y_Validation, prediction)\n",
    "print(confusion)"
   ]
  },
  {
   "cell_type": "code",
   "execution_count": 14,
   "metadata": {
    "scrolled": true
   },
   "outputs": [
    {
     "data": {
      "image/png": "[encoded data removed]",
      "text/plain": [
       "<matplotlib.figure.Figure at 0x10bffebd0>"
      ]
     },
     "metadata": {},
     "output_type": "display_data"
    }
   ],
   "source": [
    "fpr, tpr, thresholds=roc_curve(Y_Validation,prediction)\n",
    "dt_auc=auc(fpr,tpr)\n",
    "\n",
    "# Plot of a ROC curve for a specific class\n",
    "plt.figure()\n",
    "plt.plot(fpr, tpr, label='ROC DT (area = %0.2f)' % dt_auc)\n",
    "plt.plot([0, 1], [0, 1], 'k--')\n",
    "plt.xlim([0.0, 1.0])\n",
    "plt.ylim([0.0, 1.05])\n",
    "plt.xlabel('False Positive Rate')\n",
    "plt.ylabel('True Positive Rate')\n",
    "plt.title('ROC')\n",
    "plt.legend(loc=\"lower right\")\n",
    "plt.show()\n"
   ]
  },
  {
   "cell_type": "markdown",
   "metadata": {},
   "source": [
    "# Random Forest"
   ]
  },
  {
   "cell_type": "code",
   "execution_count": 15,
   "metadata": {},
   "outputs": [
    {
     "name": "stdout",
     "output_type": "stream",
     "text": [
      "             precision    recall  f1-score   support\n",
      "\n",
      "          0       0.84      0.99      0.91       424\n",
      "          1       0.25      0.01      0.02        79\n",
      "\n",
      "avg / total       0.75      0.84      0.77       503\n",
      "\n",
      "[[421   3]\n",
      " [ 78   1]]\n"
     ]
    }
   ],
   "source": [
    "RF=RandomForestClassifier(criterion='gini', min_samples_split=2,n_estimators=1000, max_depth = 25)\n",
    "RF.fit(X_train,Y_train) \n",
    "prediction=RF.predict(X_Validation)  \n",
    "print(classification_report(Y_Validation,prediction))\n",
    "print(confusion_matrix(Y_Validation,prediction))"
   ]
  },
  {
   "cell_type": "code",
   "execution_count": 16,
   "metadata": {},
   "outputs": [
    {
     "data": {
      "image/png": "[encoded data removed]",
      "text/plain": [
       "<matplotlib.figure.Figure at 0x119bd9310>"
      ]
     },
     "metadata": {},
     "output_type": "display_data"
    }
   ],
   "source": [
    "fpr, tpr, thresholds=roc_curve(Y_Validation,prediction)\n",
    "dt_auc=auc(fpr,tpr)\n",
    "\n",
    "# Plot of a ROC curve for a specific class\n",
    "plt.figure()\n",
    "plt.plot(fpr, tpr, label='ROC DT (area = %0.2f)' % dt_auc)\n",
    "plt.plot([0, 1], [0, 1], 'k--')\n",
    "plt.xlim([0.0, 1.0])\n",
    "plt.ylim([0.0, 1.05])\n",
    "plt.xlabel('False Positive Rate')\n",
    "plt.ylabel('True Positive Rate')\n",
    "plt.title('Receiver operating characteristic example')\n",
    "plt.legend(loc=\"lower right\")\n",
    "plt.show()\n"
   ]
  },
  {
   "cell_type": "code",
   "execution_count": 17,
   "metadata": {},
   "outputs": [
    {
     "name": "stdout",
     "output_type": "stream",
     "text": [
      "             precision    recall  f1-score   support\n",
      "\n",
      "          0       0.83      0.99      0.91       697\n",
      "          1       0.29      0.01      0.03       140\n",
      "\n",
      "avg / total       0.74      0.83      0.76       837\n",
      "\n",
      "[[692   5]\n",
      " [138   2]]\n"
     ]
    }
   ],
   "source": [
    "prediction=RF.predict(X_test)  \n",
    "print(classification_report(Y_test,prediction))\n",
    "print(confusion_matrix(Y_test,prediction))\n",
    "\n"
   ]
  },
  {
   "cell_type": "code",
   "execution_count": 18,
   "metadata": {},
   "outputs": [
    {
     "data": {
      "image/png": "[encoded data removed]",
      "text/plain": [
       "<matplotlib.figure.Figure at 0x119be28d0>"
      ]
     },
     "metadata": {},
     "output_type": "display_data"
    }
   ],
   "source": [
    "fpr, tpr, thresholds=roc_curve(Y_test,prediction)\n",
    "dt_auc=auc(fpr,tpr)\n",
    "\n",
    "# Plot of a ROC curve for a specific class\n",
    "plt.figure()\n",
    "plt.plot(fpr, tpr, label='ROC DT (area = %0.2f)' % dt_auc)\n",
    "plt.plot([0, 1], [0, 1], 'k--')\n",
    "plt.xlim([0.0, 1.0])\n",
    "plt.ylim([0.0, 1.05])\n",
    "plt.xlabel('False Positive Rate')\n",
    "plt.ylabel('True Positive Rate')\n",
    "plt.title('ROC')\n",
    "plt.legend(loc=\"lower right\")\n",
    "plt.show()\n"
   ]
  },
  {
   "cell_type": "code",
   "execution_count": null,
   "metadata": {
    "collapsed": true
   },
   "outputs": [],
   "source": []
  },
  {
   "cell_type": "code",
   "execution_count": 19,
   "metadata": {},
   "outputs": [
    {
     "name": "stdout",
     "output_type": "stream",
     "text": [
      "             precision    recall  f1-score   support\n",
      "\n",
      "          0       0.84      0.96      0.90       697\n",
      "          1       0.27      0.07      0.11       140\n",
      "\n",
      "avg / total       0.74      0.81      0.76       837\n",
      "\n",
      "[[670  27]\n",
      " [130  10]]\n"
     ]
    }
   ],
   "source": [
    "prediction = nb_clf.predict(X_test)  \n",
    "print(classification_report(Y_test,prediction))\n",
    "print(confusion_matrix(Y_test,prediction))"
   ]
  },
  {
   "cell_type": "code",
   "execution_count": 20,
   "metadata": {},
   "outputs": [
    {
     "data": {
      "image/png": "[encoded data removed]",
      "text/plain": [
       "<matplotlib.figure.Figure at 0x11a322f90>"
      ]
     },
     "metadata": {},
     "output_type": "display_data"
    }
   ],
   "source": [
    "fpr, tpr, thresholds=roc_curve(Y_test,prediction)\n",
    "dt_auc=auc(fpr,tpr)\n",
    "\n",
    "# Plot of a ROC curve for a specific class\n",
    "plt.figure()\n",
    "plt.plot(fpr, tpr, label='ROC DT (area = %0.2f)' % dt_auc)\n",
    "plt.plot([0, 1], [0, 1], 'k--')\n",
    "plt.xlim([0.0, 1.0])\n",
    "plt.ylim([0.0, 1.05])\n",
    "plt.xlabel('False Positive Rate')\n",
    "plt.ylabel('True Positive Rate')\n",
    "plt.title('ROC')\n",
    "plt.legend(loc=\"lower right\")\n",
    "plt.show()\n"
   ]
  },
  {
   "cell_type": "markdown",
   "metadata": {},
   "source": [
    "# Neural Net\n"
   ]
  },
  {
   "cell_type": "code",
   "execution_count": 21,
   "metadata": {},
   "outputs": [
    {
     "data": {
      "text/html": [
       "<div>\n",
       "<style>\n",
       "    .dataframe thead tr:only-child th {\n",
       "        text-align: right;\n",
       "    }\n",
       "\n",
       "    .dataframe thead th {\n",
       "        text-align: left;\n",
       "    }\n",
       "\n",
       "    .dataframe tbody tr th {\n",
       "        vertical-align: top;\n",
       "    }\n",
       "</style>\n",
       "<table border=\"1\" class=\"dataframe\">\n",
       "  <thead>\n",
       "    <tr style=\"text-align: right;\">\n",
       "      <th></th>\n",
       "      <th>match</th>\n",
       "      <th>p_income</th>\n",
       "      <th>p_go_out</th>\n",
       "      <th>p_expnum</th>\n",
       "      <th>p_museums</th>\n",
       "      <th>p_art</th>\n",
       "      <th>p_clubbing</th>\n",
       "      <th>p_tv</th>\n",
       "      <th>p_theater</th>\n",
       "      <th>p_concerts</th>\n",
       "      <th>p_music</th>\n",
       "    </tr>\n",
       "  </thead>\n",
       "  <tbody>\n",
       "    <tr>\n",
       "      <th>count</th>\n",
       "      <td>4184.000000</td>\n",
       "      <td>4184.000000</td>\n",
       "      <td>4184.000000</td>\n",
       "      <td>4184.000000</td>\n",
       "      <td>4184.000000</td>\n",
       "      <td>4184.000000</td>\n",
       "      <td>4184.000000</td>\n",
       "      <td>4184.000000</td>\n",
       "      <td>4184.000000</td>\n",
       "      <td>4184.000000</td>\n",
       "      <td>4184.000000</td>\n",
       "    </tr>\n",
       "    <tr>\n",
       "      <th>mean</th>\n",
       "      <td>0.164914</td>\n",
       "      <td>11560.111437</td>\n",
       "      <td>1.143881</td>\n",
       "      <td>1.055210</td>\n",
       "      <td>2.414197</td>\n",
       "      <td>2.650096</td>\n",
       "      <td>2.811902</td>\n",
       "      <td>2.998088</td>\n",
       "      <td>2.760516</td>\n",
       "      <td>2.513623</td>\n",
       "      <td>2.094168</td>\n",
       "    </tr>\n",
       "    <tr>\n",
       "      <th>std</th>\n",
       "      <td>0.371147</td>\n",
       "      <td>12707.395375</td>\n",
       "      <td>1.068688</td>\n",
       "      <td>2.874299</td>\n",
       "      <td>1.909324</td>\n",
       "      <td>2.054815</td>\n",
       "      <td>2.162918</td>\n",
       "      <td>2.165846</td>\n",
       "      <td>2.045972</td>\n",
       "      <td>1.990488</td>\n",
       "      <td>1.779562</td>\n",
       "    </tr>\n",
       "    <tr>\n",
       "      <th>min</th>\n",
       "      <td>0.000000</td>\n",
       "      <td>0.000000</td>\n",
       "      <td>0.000000</td>\n",
       "      <td>0.000000</td>\n",
       "      <td>0.000000</td>\n",
       "      <td>0.000000</td>\n",
       "      <td>0.000000</td>\n",
       "      <td>0.000000</td>\n",
       "      <td>0.000000</td>\n",
       "      <td>0.000000</td>\n",
       "      <td>0.000000</td>\n",
       "    </tr>\n",
       "    <tr>\n",
       "      <th>25%</th>\n",
       "      <td>0.000000</td>\n",
       "      <td>667.250000</td>\n",
       "      <td>0.000000</td>\n",
       "      <td>0.000000</td>\n",
       "      <td>1.000000</td>\n",
       "      <td>1.000000</td>\n",
       "      <td>1.000000</td>\n",
       "      <td>1.000000</td>\n",
       "      <td>1.000000</td>\n",
       "      <td>1.000000</td>\n",
       "      <td>1.000000</td>\n",
       "    </tr>\n",
       "    <tr>\n",
       "      <th>50%</th>\n",
       "      <td>0.000000</td>\n",
       "      <td>7928.500000</td>\n",
       "      <td>1.000000</td>\n",
       "      <td>0.000000</td>\n",
       "      <td>2.000000</td>\n",
       "      <td>2.000000</td>\n",
       "      <td>2.000000</td>\n",
       "      <td>3.000000</td>\n",
       "      <td>2.000000</td>\n",
       "      <td>2.000000</td>\n",
       "      <td>2.000000</td>\n",
       "    </tr>\n",
       "    <tr>\n",
       "      <th>75%</th>\n",
       "      <td>0.000000</td>\n",
       "      <td>18109.393550</td>\n",
       "      <td>2.000000</td>\n",
       "      <td>0.000000</td>\n",
       "      <td>4.000000</td>\n",
       "      <td>4.000000</td>\n",
       "      <td>4.000000</td>\n",
       "      <td>4.000000</td>\n",
       "      <td>4.000000</td>\n",
       "      <td>4.000000</td>\n",
       "      <td>3.000000</td>\n",
       "    </tr>\n",
       "    <tr>\n",
       "      <th>max</th>\n",
       "      <td>1.000000</td>\n",
       "      <td>85670.000000</td>\n",
       "      <td>7.000000</td>\n",
       "      <td>20.000000</td>\n",
       "      <td>10.000000</td>\n",
       "      <td>10.000000</td>\n",
       "      <td>10.000000</td>\n",
       "      <td>9.000000</td>\n",
       "      <td>10.000000</td>\n",
       "      <td>10.000000</td>\n",
       "      <td>10.000000</td>\n",
       "    </tr>\n",
       "  </tbody>\n",
       "</table>\n",
       "</div>"
      ],
      "text/plain": [
       "             match      p_income     p_go_out     p_expnum    p_museums  \\\n",
       "count  4184.000000   4184.000000  4184.000000  4184.000000  4184.000000   \n",
       "mean      0.164914  11560.111437     1.143881     1.055210     2.414197   \n",
       "std       0.371147  12707.395375     1.068688     2.874299     1.909324   \n",
       "min       0.000000      0.000000     0.000000     0.000000     0.000000   \n",
       "25%       0.000000    667.250000     0.000000     0.000000     1.000000   \n",
       "50%       0.000000   7928.500000     1.000000     0.000000     2.000000   \n",
       "75%       0.000000  18109.393550     2.000000     0.000000     4.000000   \n",
       "max       1.000000  85670.000000     7.000000    20.000000    10.000000   \n",
       "\n",
       "             p_art   p_clubbing         p_tv    p_theater   p_concerts  \\\n",
       "count  4184.000000  4184.000000  4184.000000  4184.000000  4184.000000   \n",
       "mean      2.650096     2.811902     2.998088     2.760516     2.513623   \n",
       "std       2.054815     2.162918     2.165846     2.045972     1.990488   \n",
       "min       0.000000     0.000000     0.000000     0.000000     0.000000   \n",
       "25%       1.000000     1.000000     1.000000     1.000000     1.000000   \n",
       "50%       2.000000     2.000000     3.000000     2.000000     2.000000   \n",
       "75%       4.000000     4.000000     4.000000     4.000000     4.000000   \n",
       "max      10.000000    10.000000     9.000000    10.000000    10.000000   \n",
       "\n",
       "           p_music  \n",
       "count  4184.000000  \n",
       "mean      2.094168  \n",
       "std       1.779562  \n",
       "min       0.000000  \n",
       "25%       1.000000  \n",
       "50%       2.000000  \n",
       "75%       3.000000  \n",
       "max      10.000000  "
      ]
     },
     "execution_count": 21,
     "metadata": {},
     "output_type": "execute_result"
    }
   ],
   "source": [
    "df.describe()"
   ]
  },
  {
   "cell_type": "code",
   "execution_count": 22,
   "metadata": {},
   "outputs": [
    {
     "data": {
      "text/html": [
       "<div>\n",
       "<style>\n",
       "    .dataframe thead tr:only-child th {\n",
       "        text-align: right;\n",
       "    }\n",
       "\n",
       "    .dataframe thead th {\n",
       "        text-align: left;\n",
       "    }\n",
       "\n",
       "    .dataframe tbody tr th {\n",
       "        vertical-align: top;\n",
       "    }\n",
       "</style>\n",
       "<table border=\"1\" class=\"dataframe\">\n",
       "  <thead>\n",
       "    <tr style=\"text-align: right;\">\n",
       "      <th></th>\n",
       "      <th>match</th>\n",
       "      <th>p_income</th>\n",
       "      <th>p_go_out</th>\n",
       "      <th>p_expnum</th>\n",
       "      <th>p_museums</th>\n",
       "      <th>p_art</th>\n",
       "      <th>p_clubbing</th>\n",
       "      <th>p_tv</th>\n",
       "      <th>p_theater</th>\n",
       "      <th>p_concerts</th>\n",
       "      <th>p_music</th>\n",
       "    </tr>\n",
       "  </thead>\n",
       "  <tbody>\n",
       "    <tr>\n",
       "      <th>match</th>\n",
       "      <td>1.000000</td>\n",
       "      <td>0.033444</td>\n",
       "      <td>-0.064659</td>\n",
       "      <td>0.037851</td>\n",
       "      <td>0.025033</td>\n",
       "      <td>0.018317</td>\n",
       "      <td>-0.021505</td>\n",
       "      <td>-0.022507</td>\n",
       "      <td>0.008577</td>\n",
       "      <td>0.003754</td>\n",
       "      <td>0.009057</td>\n",
       "    </tr>\n",
       "    <tr>\n",
       "      <th>p_income</th>\n",
       "      <td>0.033444</td>\n",
       "      <td>1.000000</td>\n",
       "      <td>-0.046941</td>\n",
       "      <td>0.029150</td>\n",
       "      <td>-0.006837</td>\n",
       "      <td>-0.002634</td>\n",
       "      <td>-0.037472</td>\n",
       "      <td>-0.015023</td>\n",
       "      <td>-0.001185</td>\n",
       "      <td>-0.043403</td>\n",
       "      <td>-0.010237</td>\n",
       "    </tr>\n",
       "    <tr>\n",
       "      <th>p_go_out</th>\n",
       "      <td>-0.064659</td>\n",
       "      <td>-0.046941</td>\n",
       "      <td>1.000000</td>\n",
       "      <td>-0.009046</td>\n",
       "      <td>0.051393</td>\n",
       "      <td>0.041330</td>\n",
       "      <td>0.045634</td>\n",
       "      <td>0.023358</td>\n",
       "      <td>-0.005120</td>\n",
       "      <td>0.074038</td>\n",
       "      <td>0.095951</td>\n",
       "    </tr>\n",
       "    <tr>\n",
       "      <th>p_expnum</th>\n",
       "      <td>0.037851</td>\n",
       "      <td>0.029150</td>\n",
       "      <td>-0.009046</td>\n",
       "      <td>1.000000</td>\n",
       "      <td>0.033818</td>\n",
       "      <td>0.019179</td>\n",
       "      <td>-0.038360</td>\n",
       "      <td>-0.005743</td>\n",
       "      <td>0.066601</td>\n",
       "      <td>-0.007548</td>\n",
       "      <td>0.012677</td>\n",
       "    </tr>\n",
       "    <tr>\n",
       "      <th>p_museums</th>\n",
       "      <td>0.025033</td>\n",
       "      <td>-0.006837</td>\n",
       "      <td>0.051393</td>\n",
       "      <td>0.033818</td>\n",
       "      <td>1.000000</td>\n",
       "      <td>0.738056</td>\n",
       "      <td>0.130190</td>\n",
       "      <td>0.035051</td>\n",
       "      <td>0.388727</td>\n",
       "      <td>0.295764</td>\n",
       "      <td>0.266225</td>\n",
       "    </tr>\n",
       "    <tr>\n",
       "      <th>p_art</th>\n",
       "      <td>0.018317</td>\n",
       "      <td>-0.002634</td>\n",
       "      <td>0.041330</td>\n",
       "      <td>0.019179</td>\n",
       "      <td>0.738056</td>\n",
       "      <td>1.000000</td>\n",
       "      <td>0.141554</td>\n",
       "      <td>0.028373</td>\n",
       "      <td>0.383743</td>\n",
       "      <td>0.262727</td>\n",
       "      <td>0.234695</td>\n",
       "    </tr>\n",
       "    <tr>\n",
       "      <th>p_clubbing</th>\n",
       "      <td>-0.021505</td>\n",
       "      <td>-0.037472</td>\n",
       "      <td>0.045634</td>\n",
       "      <td>-0.038360</td>\n",
       "      <td>0.130190</td>\n",
       "      <td>0.141554</td>\n",
       "      <td>1.000000</td>\n",
       "      <td>0.034625</td>\n",
       "      <td>0.112665</td>\n",
       "      <td>0.107515</td>\n",
       "      <td>0.122735</td>\n",
       "    </tr>\n",
       "    <tr>\n",
       "      <th>p_tv</th>\n",
       "      <td>-0.022507</td>\n",
       "      <td>-0.015023</td>\n",
       "      <td>0.023358</td>\n",
       "      <td>-0.005743</td>\n",
       "      <td>0.035051</td>\n",
       "      <td>0.028373</td>\n",
       "      <td>0.034625</td>\n",
       "      <td>1.000000</td>\n",
       "      <td>0.075965</td>\n",
       "      <td>0.048583</td>\n",
       "      <td>0.083285</td>\n",
       "    </tr>\n",
       "    <tr>\n",
       "      <th>p_theater</th>\n",
       "      <td>0.008577</td>\n",
       "      <td>-0.001185</td>\n",
       "      <td>-0.005120</td>\n",
       "      <td>0.066601</td>\n",
       "      <td>0.388727</td>\n",
       "      <td>0.383743</td>\n",
       "      <td>0.112665</td>\n",
       "      <td>0.075965</td>\n",
       "      <td>1.000000</td>\n",
       "      <td>0.281456</td>\n",
       "      <td>0.211382</td>\n",
       "    </tr>\n",
       "    <tr>\n",
       "      <th>p_concerts</th>\n",
       "      <td>0.003754</td>\n",
       "      <td>-0.043403</td>\n",
       "      <td>0.074038</td>\n",
       "      <td>-0.007548</td>\n",
       "      <td>0.295764</td>\n",
       "      <td>0.262727</td>\n",
       "      <td>0.107515</td>\n",
       "      <td>0.048583</td>\n",
       "      <td>0.281456</td>\n",
       "      <td>1.000000</td>\n",
       "      <td>0.481044</td>\n",
       "    </tr>\n",
       "    <tr>\n",
       "      <th>p_music</th>\n",
       "      <td>0.009057</td>\n",
       "      <td>-0.010237</td>\n",
       "      <td>0.095951</td>\n",
       "      <td>0.012677</td>\n",
       "      <td>0.266225</td>\n",
       "      <td>0.234695</td>\n",
       "      <td>0.122735</td>\n",
       "      <td>0.083285</td>\n",
       "      <td>0.211382</td>\n",
       "      <td>0.481044</td>\n",
       "      <td>1.000000</td>\n",
       "    </tr>\n",
       "  </tbody>\n",
       "</table>\n",
       "</div>"
      ],
      "text/plain": [
       "               match  p_income  p_go_out  p_expnum  p_museums     p_art  \\\n",
       "match       1.000000  0.033444 -0.064659  0.037851   0.025033  0.018317   \n",
       "p_income    0.033444  1.000000 -0.046941  0.029150  -0.006837 -0.002634   \n",
       "p_go_out   -0.064659 -0.046941  1.000000 -0.009046   0.051393  0.041330   \n",
       "p_expnum    0.037851  0.029150 -0.009046  1.000000   0.033818  0.019179   \n",
       "p_museums   0.025033 -0.006837  0.051393  0.033818   1.000000  0.738056   \n",
       "p_art       0.018317 -0.002634  0.041330  0.019179   0.738056  1.000000   \n",
       "p_clubbing -0.021505 -0.037472  0.045634 -0.038360   0.130190  0.141554   \n",
       "p_tv       -0.022507 -0.015023  0.023358 -0.005743   0.035051  0.028373   \n",
       "p_theater   0.008577 -0.001185 -0.005120  0.066601   0.388727  0.383743   \n",
       "p_concerts  0.003754 -0.043403  0.074038 -0.007548   0.295764  0.262727   \n",
       "p_music     0.009057 -0.010237  0.095951  0.012677   0.266225  0.234695   \n",
       "\n",
       "            p_clubbing      p_tv  p_theater  p_concerts   p_music  \n",
       "match        -0.021505 -0.022507   0.008577    0.003754  0.009057  \n",
       "p_income     -0.037472 -0.015023  -0.001185   -0.043403 -0.010237  \n",
       "p_go_out      0.045634  0.023358  -0.005120    0.074038  0.095951  \n",
       "p_expnum     -0.038360 -0.005743   0.066601   -0.007548  0.012677  \n",
       "p_museums     0.130190  0.035051   0.388727    0.295764  0.266225  \n",
       "p_art         0.141554  0.028373   0.383743    0.262727  0.234695  \n",
       "p_clubbing    1.000000  0.034625   0.112665    0.107515  0.122735  \n",
       "p_tv          0.034625  1.000000   0.075965    0.048583  0.083285  \n",
       "p_theater     0.112665  0.075965   1.000000    0.281456  0.211382  \n",
       "p_concerts    0.107515  0.048583   0.281456    1.000000  0.481044  \n",
       "p_music       0.122735  0.083285   0.211382    0.481044  1.000000  "
      ]
     },
     "execution_count": 22,
     "metadata": {},
     "output_type": "execute_result"
    }
   ],
   "source": [
    "df.corr()"
   ]
  },
  {
   "cell_type": "code",
   "execution_count": 502,
   "metadata": {
    "collapsed": true
   },
   "outputs": [],
   "source": []
  },
  {
   "cell_type": "code",
   "execution_count": 503,
   "metadata": {
    "collapsed": true
   },
   "outputs": [],
   "source": []
  },
  {
   "cell_type": "code",
   "execution_count": 504,
   "metadata": {
    "collapsed": true
   },
   "outputs": [],
   "source": []
  },
  {
   "cell_type": "code",
   "execution_count": null,
   "metadata": {},
   "outputs": [],
   "source": []
  },
  {
   "cell_type": "markdown",
   "metadata": {},
   "source": [
    "# SVM"
   ]
  },
  {
   "cell_type": "code",
   "execution_count": null,
   "metadata": {
    "collapsed": true
   },
   "outputs": [],
   "source": []
  },
  {
   "cell_type": "code",
   "execution_count": null,
   "metadata": {
    "collapsed": true
   },
   "outputs": [],
   "source": []
  },
  {
   "cell_type": "code",
   "execution_count": null,
   "metadata": {
    "collapsed": true
   },
   "outputs": [],
   "source": []
  },
  {
   "cell_type": "code",
   "execution_count": null,
   "metadata": {
    "collapsed": true
   },
   "outputs": [],
   "source": []
  }
 ],
 "metadata": {
  "kernelspec": {
   "display_name": "Python 2",
   "language": "python",
   "name": "python2"
  },
  "language_info": {
   "codemirror_mode": {
    "name": "ipython",
    "version": 2
   },
   "file_extension": ".py",
   "mimetype": "text/x-python",
   "name": "python",
   "nbconvert_exporter": "python",
   "pygments_lexer": "ipython2",
   "version": "2.7.10"
  }
 },
 "nbformat": 4,
 "nbformat_minor": 2
}
